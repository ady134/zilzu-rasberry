{
  "cells": [
    {
      "cell_type": "markdown",
      "metadata": {
        "id": "view-in-github",
        "colab_type": "text"
      },
      "source": [
        "<a href=\"https://colab.research.google.com/github/ady134/zilzu-rasberry/blob/main/%5B%EC%B9%B4%EC%9D%B4%EC%8A%A4%ED%8A%B8%5D_1%EC%A3%BC%EC%B0%A8_%EC%8B%A4%EC%8A%B5_%EB%AC%B8%EC%A0%9C.ipynb\" target=\"_parent\"><img src=\"https://colab.research.google.com/assets/colab-badge.svg\" alt=\"Open In Colab\"/></a>"
      ]
    },
    {
      "cell_type": "markdown",
      "source": [
        "# 파일을 복사한 후 실습을 진행하세요!"
      ],
      "metadata": {
        "id": "U3hK4YPhQCBi"
      }
    },
    {
      "cell_type": "markdown",
      "metadata": {
        "id": "KjqEXjvyp-OW"
      },
      "source": [
        "소수는 약수가 1과 자기 자신 뿐인 자연수이다. 수를 input()통해 입력받아 그 수가 소수인지 검사하여 True 또는 False를 반환하는 함수 prime()을 정의하라."
      ]
    },
    {
      "cell_type": "code",
      "execution_count": null,
      "metadata": {
        "id": "WPKGtY50p218"
      },
      "outputs": [],
      "source": []
    },
    {
      "cell_type": "markdown",
      "metadata": {
        "id": "T_hSvQKTqQ8v"
      },
      "source": [
        "**에라토스테네스의 체**는 N보다 작거나 같은 **모든 소수**를 찾는 알고리즘이다.\n",
        "\n",
        "이 알고리즘은 다음과 같다.\n",
        "\n",
        "1. 2부터 N까지 모든 정수를 적는다.\n",
        "2. 아직 지우지 않은 수 중 가장 작은 수를 찾는다. 이것을 P라고 하고, 이 수는 소수이다.\n",
        "3. P를 지우고, 아직 지우지 않은 P의 배수를 크기 순서대로 지운다.\n",
        "4. 아직 모든 수를 지우지 않았다면, 다시 2번 단계로 간다.\n",
        "\n",
        "**에라토스테네스의 체**를 활용하여 `input()`을 통해 자연수 n을 입력받고, **n보다 크고 2n보다 작거나 같은 소수를 출력하는 프로그램**을 작성해라.\n",
        "\n",
        "예)\n",
        "10보다 크고 20보다 작거나 같은 소수는 다음과 같다.\n",
        "\n",
        "11\n",
        "\n",
        "13\n",
        "\n",
        "17\n",
        "\n",
        "19"
      ]
    },
    {
      "cell_type": "code",
      "execution_count": null,
      "metadata": {
        "id": "d8VCeR3sqRNm"
      },
      "outputs": [],
      "source": []
    },
    {
      "cell_type": "markdown",
      "metadata": {
        "id": "eq2KZxJIrFd2"
      },
      "source": [
        "$$\n",
        "x = 2, 3, 4, 5일 때, x^2 + 2x + 3값 구하기\n",
        "$$"
      ]
    },
    {
      "cell_type": "code",
      "execution_count": null,
      "metadata": {
        "id": "_Qa495awrDcF"
      },
      "outputs": [],
      "source": []
    },
    {
      "cell_type": "markdown",
      "metadata": {
        "id": "O4qm4Kblt0d7"
      },
      "source": [
        "수를 input()을 통해 입력받아 그 수가 양수인지 음수인지 검사하여 절댓값을 반환하는 함수 absolute()를 정의하라"
      ]
    },
    {
      "cell_type": "code",
      "execution_count": null,
      "metadata": {
        "id": "1R5bF2PntmLR"
      },
      "outputs": [],
      "source": []
    }
  ],
  "metadata": {
    "colab": {
      "provenance": [],
      "include_colab_link": true
    },
    "kernelspec": {
      "display_name": "Python 3",
      "name": "python3"
    },
    "language_info": {
      "name": "python"
    }
  },
  "nbformat": 4,
  "nbformat_minor": 0
}